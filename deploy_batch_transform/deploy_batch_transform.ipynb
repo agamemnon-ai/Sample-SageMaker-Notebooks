{
 "cells": [
  {
   "cell_type": "code",
   "execution_count": null,
   "id": "617fe995-7369-4207-8b05-2878eba8212b",
   "metadata": {},
   "outputs": [],
   "source": [
    "# preparation\n",
    "\n",
    "import os\n",
    "import pandas as pd\n",
    "from sklearn.model_selection import train_test_split\n",
    "from sklearn.datasets import load_iris\n",
    "\n",
    "iris = load_iris()\n",
    "X = iris.data\n",
    "y = iris.target\n",
    "\n",
    "X_train, X_test, y_train, y_test = train_test_split(X, y, test_size=0.2, random_state=42)\n",
    "\n",
    "train_df = pd.DataFrame(X_train, columns=iris.feature_names)\n",
    "train_df['label'] = y_train\n",
    "\n",
    "test_df = pd.DataFrame(X_test, columns=iris.feature_names)\n",
    "test_df['label'] = y_test\n",
    "\n",
    "train_df.to_csv(\"iris_train.csv\", index=False)\n",
    "test_df.to_csv(\"iris_test.csv\", index=False)"
   ]
  },
  {
   "cell_type": "code",
   "execution_count": null,
   "id": "459a5b4b-3587-48f1-9bd8-bd5f0cbed059",
   "metadata": {},
   "outputs": [],
   "source": [
    "# training\n",
    "\n",
    "import sagemaker\n",
    "from sagemaker.sklearn.estimator import SKLearn\n",
    "\n",
    "sagemaker_session = sagemaker.Session()\n",
    "role = sagemaker.get_execution_role()\n",
    "\n",
    "train_path = sagemaker_session.upload_data('iris_train.csv', key_prefix='iris/data')\n",
    "test_path = sagemaker_session.upload_data('iris_test.csv', key_prefix='iris/data')\n",
    "\n",
    "sklearn_estimator = SKLearn(\n",
    "    entry_point='random_forest.py',\n",
    "    role=role,\n",
    "    instance_count=1,\n",
    "    instance_type='ml.m5.xlarge',\n",
    "    framework_version='0.23-1',\n",
    "    py_version='py3',\n",
    "    hyperparameters={}\n",
    ")\n",
    "\n",
    "sklearn_estimator.fit({'train': train_path})"
   ]
  },
  {
   "cell_type": "code",
   "execution_count": null,
   "id": "bdfb5e0f-49a0-46f9-8968-4933d455f668",
   "metadata": {},
   "outputs": [],
   "source": [
    "# realtime endpoint\n",
    "\n",
    "predictor = sklearn_estimator.deploy(initial_instance_count=1, instance_type='ml.m5.large')"
   ]
  },
  {
   "cell_type": "code",
   "execution_count": null,
   "id": "a23e5f95",
   "metadata": {},
   "outputs": [],
   "source": [
    "from sagemaker.predictor import Predictor\n",
    "import json\n",
    "\n",
    "# エンドポイント名を指定\n",
    "endpoint_name = \"xxxxxxxx\"\n",
    "\n",
    "predictor = Predictor(endpoint_name=endpoint_name)\n",
    "\n",
    "# 推論を行うテストデータの準備\n",
    "test_samples = test_df.drop('label', axis=1).head().values\n",
    "json_data = json.dumps(test_samples.tolist())\n",
    "\n",
    "predictions = predictor.predict(json_data, initial_args={\"ContentType\": \"application/json\"})\n",
    "print(predictions)"
   ]
  },
  {
   "cell_type": "code",
   "execution_count": null,
   "id": "70c046e8-a719-4ff4-b739-d8160b921d6d",
   "metadata": {},
   "outputs": [],
   "source": [
    "# batch transform\n",
    "\n",
    "test_data_no_label = test_df.drop('label', axis=1)\n",
    "test_data_no_label.to_csv(\"iris_test_no_label.csv\", index=False, header=False)\n",
    "\n",
    "test_data_path = sagemaker_session.upload_data('iris_test_no_label.csv', key_prefix='iris/batch_input')"
   ]
  },
  {
   "cell_type": "code",
   "execution_count": null,
   "id": "cb66fefc-97b1-4028-a4ea-72166190c2fd",
   "metadata": {},
   "outputs": [],
   "source": [
    "transformer = sklearn_estimator.transformer(\n",
    "    instance_count=1,\n",
    "    instance_type='ml.m5.large',\n",
    "    output_path='s3://{}/iris/batch_output'.format(sagemaker_session.default_bucket())\n",
    ")\n",
    "\n",
    "transformer.transform(\n",
    "    data=test_data_path,\n",
    "    content_type='text/csv',\n",
    "    split_type='Line'\n",
    ")\n",
    "\n",
    "transformer.wait()"
   ]
  },
  {
   "cell_type": "code",
   "execution_count": null,
   "id": "04979dce-fec8-4f84-9ff3-fd7c8de7e474",
   "metadata": {},
   "outputs": [],
   "source": [
    "import boto3\n",
    "import os\n",
    "\n",
    "s3_client = boto3.client('s3',region_name='ap-northeast-1')\n",
    "\n",
    "bucket_name = sagemaker_session.default_bucket()\n",
    "s3_prefix = transformer.output_path.replace(f\"s3://{bucket_name}/\", \"\")\n",
    "s3_key = f\"{s3_prefix}/iris_test_no_label.csv.out\"\n",
    "\n",
    "output_file = 'batch_transform_output.csv'\n",
    "s3_client.download_file(Bucket=bucket_name, Key=s3_key, Filename=output_file)\n",
    "\n",
    "predictions = pd.read_csv(output_file, header=None)\n",
    "print(predictions.head())"
   ]
  }
 ],
 "metadata": {
  "kernelspec": {
   "display_name": "Python 3 (ipykernel)",
   "language": "python",
   "name": "python3"
  },
  "language_info": {
   "codemirror_mode": {
    "name": "ipython",
    "version": 3
   },
   "file_extension": ".py",
   "mimetype": "text/x-python",
   "name": "python",
   "nbconvert_exporter": "python",
   "pygments_lexer": "ipython3",
   "version": "3.10.13"
  }
 },
 "nbformat": 4,
 "nbformat_minor": 5
}
